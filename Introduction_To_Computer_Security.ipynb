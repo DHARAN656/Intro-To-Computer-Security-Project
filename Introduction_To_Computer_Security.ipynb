{
  "nbformat": 4,
  "nbformat_minor": 0,
  "metadata": {
    "colab": {
      "name": "Introduction To Computer Security.ipynb",
      "provenance": []
    },
    "kernelspec": {
      "name": "python3",
      "display_name": "Python 3"
    },
    "language_info": {
      "name": "python"
    }
  },
  "cells": [
    {
      "cell_type": "markdown",
      "source": [
        "To run the Scripts, Please download the datasets from [dataset link](https://myunt-my.sharepoint.com/:f:/g/personal/dharankumarkunati_my_unt_edu/Eoub8ZV8aR1HsvGwybjKuuUBf-ALmoTMdMdv-iZcT-VB5A?e=ortaHV). Download both Train,Test datasets and change the path in \"Importing Dataset Section\""
      ],
      "metadata": {
        "id": "TeSyqHPikyI-"
      }
    },
    {
      "cell_type": "markdown",
      "source": [
        "# **Libraries**"
      ],
      "metadata": {
        "id": "KiRmmipIh_Fi"
      }
    },
    {
      "cell_type": "code",
      "source": [
        "#Libraries\n",
        "import numpy as np\n",
        "import pandas as pd\n",
        "import matplotlib.pyplot as plt\n",
        "import seaborn as sns\n",
        "import tensorflow as tf\n",
        "from tensorflow import keras\n",
        "from sklearn.metrics import f1_score, roc_auc_score, log_loss\n",
        "import random\n",
        "from google.colab import drive\n",
        "from keras.layers import Input,InputLayer, Dense, Activation, ZeroPadding2D, BatchNormalization, Flatten, Conv2D\n",
        "from keras.layers import AveragePooling2D, MaxPooling2D, Dropout\n",
        "from keras.models import Sequential,Model\n",
        "from tensorflow.keras.optimizers import SGD\n",
        "from keras.callbacks import ModelCheckpoint,LearningRateScheduler\n",
        "import keras\n",
        "from keras import backend as K\n",
        "from keras.preprocessing.image import ImageDataGenerator\n",
        "drive.mount('/content/drive')"
      ],
      "metadata": {
        "id": "jvn0_tpI8ACw"
      },
      "execution_count": null,
      "outputs": []
    },
    {
      "cell_type": "markdown",
      "source": [
        "# **Importing** **Dataset**"
      ],
      "metadata": {
        "id": "pqZZw7uiiJG5"
      }
    },
    {
      "cell_type": "code",
      "source": [
        "train_df = pd.read_csv('drive/MyDrive/Computersecurity/mnist_train.csv',header=None)\n",
        "test_df =  pd.read_csv('drive/MyDrive/Computersecurity/mnist_test.csv',header=None)"
      ],
      "metadata": {
        "id": "8_N1EriEiH70"
      },
      "execution_count": null,
      "outputs": []
    },
    {
      "cell_type": "markdown",
      "source": [
        "# **Preprocessing**"
      ],
      "metadata": {
        "id": "GTt3uTBCiTSB"
      }
    },
    {
      "cell_type": "code",
      "source": [
        "#function to change the headers of the dataframe\n",
        "c=[]\n",
        "for i in range(785):\n",
        "    c.append(str(i))\n",
        "train_df.columns=c\n",
        "test_df.columns=c\n",
        "#Seperating features,labels from dataset\n",
        "X_train=train_df.drop('0',axis = 1) \n",
        "Y_train=train_df['0']\n",
        "X_test=test_df.drop('0',axis = 1) \n",
        "Y_test=test_df['0']\n",
        "print(X_train.shape)\n",
        "print(Y_train.shape)"
      ],
      "metadata": {
        "id": "w0rdibSC8Hiq"
      },
      "execution_count": 2,
      "outputs": []
    },
    {
      "cell_type": "code",
      "source": [
        "#reshaping the images to fit into the neural network\n",
        "X_train=X_train.astype('float32')/255\n",
        "X_test=X_test.astype('float32')/255\n",
        "X_train = X_train.values.reshape(-1,28,28,1)\n",
        "X_test = X_test.values.reshape(-1,28,28,1)\n",
        "from keras.utils.np_utils import to_categorical\n",
        "Y_train = to_categorical(Y_train, num_classes = 10)"
      ],
      "metadata": {
        "id": "EUrfYbdP9VWt"
      },
      "execution_count": 7,
      "outputs": []
    },
    {
      "cell_type": "markdown",
      "source": [
        "# **Splitting Train data for validations**"
      ],
      "metadata": {
        "id": "ELC4h3SQi7Lg"
      }
    },
    {
      "cell_type": "code",
      "source": [
        "from sklearn.model_selection import train_test_split\n",
        "X_train, X_valid, Y_train, Y_valid = train_test_split(X_train, Y_train, test_size = 0.1, random_state=20)"
      ],
      "metadata": {
        "id": "pNdNJLkT9kkX"
      },
      "execution_count": 8,
      "outputs": []
    },
    {
      "cell_type": "markdown",
      "source": [
        "# **Convultional Neural Network**"
      ],
      "metadata": {
        "id": "zYFScqXBjFQ7"
      }
    },
    {
      "cell_type": "code",
      "source": [
        "#Neural Network Model\n",
        "inputShape=(28,28,1)\n",
        "input = Input(inputShape)\n",
        "\n",
        "x = Conv2D(64,(3,3),strides = (1,1),name='layer_conv1',padding='same')(input)\n",
        "x = BatchNormalization()(x)\n",
        "x = Activation('relu')(x)\n",
        "x = MaxPooling2D((2,2),name='maxPool1')(x)\n",
        "\n",
        "\n",
        "x = Conv2D(64,(3,3),strides = (1,1),name='layer_conv2',padding='same')(x)\n",
        "x = BatchNormalization()(x)\n",
        "x = Activation('relu')(x)\n",
        "x = MaxPooling2D((2,2),name='maxPool2')(x)\n",
        "\n",
        "x = Conv2D(32,(3,3),strides = (1,1),name='conv3',padding='same')(x)\n",
        "x = BatchNormalization()(x)\n",
        "x = Activation('relu')(x)\n",
        "x = MaxPooling2D((2,2),name='maxPool3')(x)\n",
        "\n",
        "\n",
        "x = Flatten()(x)\n",
        "x = Dense(64,activation = 'relu',name='fc0')(x)\n",
        "x = Dropout(0.25)(x)\n",
        "x = Dense(32,activation = 'relu',name='fc1')(x)\n",
        "x = Dropout(0.25)(x)\n",
        "x = Dense(10,activation = 'softmax',name='fc2')(x)\n",
        "\n",
        "model = Model(inputs = input,outputs = x,name='Predict')"
      ],
      "metadata": {
        "id": "EB8HnxmS9qA0"
      },
      "execution_count": 9,
      "outputs": []
    },
    {
      "cell_type": "markdown",
      "source": [
        "# **Image Augmentation**"
      ],
      "metadata": {
        "id": "KCP36eudjWlG"
      }
    },
    {
      "cell_type": "code",
      "source": [
        "datagen_train = ImageDataGenerator(\n",
        "    width_shift_range=0.2,  # randomly shift images horizontally \n",
        "    height_shift_range=0.2,# randomly shift images vertically \n",
        "\n",
        "    horizontal_flip=True) # randomly flip images horizontally\n",
        "\n",
        "# fit augmented image generator on data\n",
        "datagen_train.fit(X_train)"
      ],
      "metadata": {
        "id": "ywcNk9Ba9uxM"
      },
      "execution_count": 10,
      "outputs": []
    },
    {
      "cell_type": "markdown",
      "source": [
        "# **Optimizations**"
      ],
      "metadata": {
        "id": "CZBGXgX1jjc6"
      }
    },
    {
      "cell_type": "code",
      "source": [
        "# define SGD optimizer\n",
        "momentum = 0.5\n",
        "sgd = SGD(lr=0.01, momentum=momentum, decay=0.0, nesterov=False) \n",
        "\n",
        "# compile the model\n",
        "model.compile(loss='categorical_crossentropy',optimizer=sgd, metrics=['accuracy'])"
      ],
      "metadata": {
        "colab": {
          "base_uri": "https://localhost:8080/"
        },
        "id": "1x6Wqacl9wmb",
        "outputId": "46dd0bff-67af-4687-9512-97f7391708a0"
      },
      "execution_count": 11,
      "outputs": [
        {
          "output_type": "stream",
          "name": "stderr",
          "text": [
            "/usr/local/lib/python3.7/dist-packages/keras/optimizer_v2/gradient_descent.py:102: UserWarning: The `lr` argument is deprecated, use `learning_rate` instead.\n",
            "  super(SGD, self).__init__(name, **kwargs)\n"
          ]
        }
      ]
    },
    {
      "cell_type": "code",
      "source": [
        "import math\n",
        "def step_decay(epoch):\n",
        "    \n",
        "    \n",
        "    initial_lrate=0.1\n",
        "    drop=0.6\n",
        "    epochs_drop = 3.0\n",
        "    lrate= initial_lrate * math.pow(drop,  \n",
        "           math.floor((1+epoch)/epochs_drop))\n",
        "    return lrate\n",
        "   \n",
        "\n",
        "lrate = LearningRateScheduler(step_decay)\n",
        "callbacks_list = [ lrate]"
      ],
      "metadata": {
        "id": "a539DtTu9x4K"
      },
      "execution_count": 12,
      "outputs": []
    },
    {
      "cell_type": "markdown",
      "source": [
        "# **Fitting the model**"
      ],
      "metadata": {
        "id": "Y5sLZ2s4jqEA"
      }
    },
    {
      "cell_type": "code",
      "source": [
        "history=model.fit(X_train, Y_train, validation_data=(X_valid, Y_valid),\n",
        "epochs=25,callbacks=callbacks_list,verbose=1)"
      ],
      "metadata": {
        "colab": {
          "base_uri": "https://localhost:8080/"
        },
        "id": "qWZiTdWk9zhD",
        "outputId": "11a4f6c7-1ac8-4013-fae3-5b4400665065"
      },
      "execution_count": 14,
      "outputs": [
        {
          "output_type": "stream",
          "name": "stdout",
          "text": [
            "Epoch 1/3\n",
            "1688/1688 [==============================] - 168s 99ms/step - loss: 0.1310 - accuracy: 0.9643 - val_loss: 0.0618 - val_accuracy: 0.9808 - lr: 0.1000\n",
            "Epoch 2/3\n",
            "1688/1688 [==============================] - 164s 97ms/step - loss: 0.0889 - accuracy: 0.9764 - val_loss: 0.0492 - val_accuracy: 0.9853 - lr: 0.1000\n",
            "Epoch 3/3\n",
            "1688/1688 [==============================] - 164s 97ms/step - loss: 0.0615 - accuracy: 0.9845 - val_loss: 0.0475 - val_accuracy: 0.9855 - lr: 0.0600\n"
          ]
        }
      ]
    },
    {
      "cell_type": "markdown",
      "source": [
        "# **Logistic Function**"
      ],
      "metadata": {
        "id": "zAmt_PTOjzvZ"
      }
    },
    {
      "cell_type": "code",
      "source": [
        "\n",
        "l=[]\n",
        "X_train_pert=train_df.drop('0',axis = 1) \n",
        "X_train_pert=X_train_pert.to_numpy()\n",
        "for i in range(60000):\n",
        "    size=784\n",
        "    r=4\n",
        "    y=np.zeros(size)\n",
        "    y[0]=random.uniform(0,0.1)\n",
        "    for n in range(size-1):\n",
        "        y[n+1]=r*y[n]*(1-y[n])\n",
        "    k=[]\n",
        "    for m in y:\n",
        "        if(m<0.5):\n",
        "            k.append(2);\n",
        "        else:\n",
        "            k.append(1);    \n",
        "    l.append(k)    \n",
        "for i in range(60000):\n",
        "    for j in range(784):\n",
        "        X_train_pert[i][j]=X_train_pert[i][j]+l[i][j]\n",
        "X_train_pert=X_train_pert.reshape(-1,28,28,1)"
      ],
      "metadata": {
        "id": "R05rU_pu8JpG"
      },
      "execution_count": 119,
      "outputs": []
    },
    {
      "cell_type": "markdown",
      "source": [
        "# **Reshaping the data for predictions**"
      ],
      "metadata": {
        "id": "eGm9OOZPj8T_"
      }
    },
    {
      "cell_type": "code",
      "source": [
        "X_train1=train_df.drop('0',axis = 1) \n",
        "X_train1 = X_train1.values.reshape(-1,28,28,1)"
      ],
      "metadata": {
        "id": "7u2aMtGXL_9Q"
      },
      "execution_count": 120,
      "outputs": []
    },
    {
      "cell_type": "code",
      "source": [
        "#original output\n",
        "Y_train1=train_df['0']\n",
        "Y_train1.to_numpy()"
      ],
      "metadata": {
        "id": "d3P_QaEXHSak"
      },
      "execution_count": null,
      "outputs": []
    },
    {
      "cell_type": "markdown",
      "source": [
        "# **Predictions**"
      ],
      "metadata": {
        "id": "rY_fPtrbklzr"
      }
    },
    {
      "cell_type": "code",
      "source": [
        "#model predictions\n",
        "modelresult=np.argmax(model.predict(X_train1), axis=-1)"
      ],
      "metadata": {
        "id": "-CTokLDVFSiA"
      },
      "execution_count": 121,
      "outputs": []
    },
    {
      "cell_type": "code",
      "source": [
        "#model predictions after changing the images\n",
        "modelresult_pert=np.argmax(model.predict(X_train_pert), axis=-1)"
      ],
      "metadata": {
        "id": "MluZ768eJqt-"
      },
      "execution_count": 122,
      "outputs": []
    },
    {
      "cell_type": "code",
      "source": [
        "#Accuracy\n",
        "sum=0\n",
        "for i in range(60000):\n",
        "  if(modelresult[i]==Y_train1[i]):\n",
        "    sum=sum+1;\n",
        "print('model accuracy without attack = ',sum/600)"
      ],
      "metadata": {
        "colab": {
          "base_uri": "https://localhost:8080/"
        },
        "id": "4w0iab2sHi3j",
        "outputId": "665a8dbd-cdc6-4ff2-f0de-a02807c7da2a"
      },
      "execution_count": 129,
      "outputs": [
        {
          "output_type": "stream",
          "name": "stdout",
          "text": [
            "model accuracy without attack =  96.98333333333333\n"
          ]
        }
      ]
    },
    {
      "cell_type": "code",
      "source": [
        "sum=0\n",
        "for i in range(60000):\n",
        "  if(modelresult_pert[i]==Y_train1[i]):\n",
        "    sum=sum+1;\n",
        "print(\"model accuracy after attack = \",sum/600)"
      ],
      "metadata": {
        "colab": {
          "base_uri": "https://localhost:8080/"
        },
        "id": "njzBYuCXJcfA",
        "outputId": "e9a31c5b-a90b-4669-a41e-86b0ac9933f7"
      },
      "execution_count": 130,
      "outputs": [
        {
          "output_type": "stream",
          "name": "stdout",
          "text": [
            "model accuracy after attack =  96.90166666666667\n"
          ]
        }
      ]
    },
    {
      "cell_type": "code",
      "source": [
        "sum=0\n",
        "for i in range(60000):\n",
        "  if(modelresult_pert[i]==modelresult[i]):\n",
        "    sum=0\n",
        "  else:\n",
        "    sum=i\n",
        "    break;\n",
        "print(\"error in \", sum)"
      ],
      "metadata": {
        "colab": {
          "base_uri": "https://localhost:8080/"
        },
        "id": "TDZSONq4URrm",
        "outputId": "7330fbfb-90d3-49e3-d77c-2e2a7d3b8485"
      },
      "execution_count": 138,
      "outputs": [
        {
          "output_type": "stream",
          "name": "stdout",
          "text": [
            "error in  1209\n"
          ]
        }
      ]
    },
    {
      "cell_type": "code",
      "source": [
        "o=1209\n",
        "image1=X_train1[o].reshape(28,28)\n",
        "image2=X_train_pert[o].reshape(28,28)\n",
        "plt.imshow(image1);\n",
        "print(\"model predicted result -\",modelresult[o])"
      ],
      "metadata": {
        "colab": {
          "base_uri": "https://localhost:8080/",
          "height": 283
        },
        "id": "XlGIKbS6EVwj",
        "outputId": "3cc51852-4669-4bff-db78-ef289255bbc3"
      },
      "execution_count": 139,
      "outputs": [
        {
          "output_type": "stream",
          "name": "stdout",
          "text": [
            "model predicted result - 0\n"
          ]
        },
        {
          "output_type": "display_data",
          "data": {
            "text/plain": [
              "<Figure size 432x288 with 1 Axes>"
            ],
            "image/png": "[encoded data removed]"
          },
          "metadata": {
            "needs_background": "light"
          }
        }
      ]
    },
    {
      "cell_type": "code",
      "source": [
        "plt.imshow(image2);\n",
        "print(\"result after attack - \",modelresult_pert[4])"
      ],
      "metadata": {
        "colab": {
          "base_uri": "https://localhost:8080/",
          "height": 283
        },
        "id": "i8Z8YPGaM4vM",
        "outputId": "c4ac3896-56fd-4e1c-98ce-ba87caf93bd3"
      },
      "execution_count": 140,
      "outputs": [
        {
          "output_type": "stream",
          "name": "stdout",
          "text": [
            "result after attack -  9\n"
          ]
        },
        {
          "output_type": "display_data",
          "data": {
            "text/plain": [
              "<Figure size 432x288 with 1 Axes>"
            ],
            "image/png": "[encoded data removed]"
          },
          "metadata": {
            "needs_background": "light"
          }
        }
      ]
    }
  ]
}